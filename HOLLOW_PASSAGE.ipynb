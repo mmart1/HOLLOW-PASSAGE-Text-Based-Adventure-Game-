{
 "cells": [
  {
   "cell_type": "markdown",
   "id": "8ec56207",
   "metadata": {},
   "source": [
    "# Hollow Passage"
   ]
  },
  {
   "cell_type": "markdown",
   "id": "84b94902",
   "metadata": {},
   "source": [
    "### Install required libraries"
   ]
  },
  {
   "cell_type": "code",
   "execution_count": 1,
   "id": "8db3fbde",
   "metadata": {},
   "outputs": [
    {
     "name": "stdout",
     "output_type": "stream",
     "text": [
      "Requirement already satisfied: graphviz in c:\\users\\mnm_2\\anaconda3\\lib\\site-packages (from -r requirements.txt (line 1)) (0.21)\n",
      "Requirement already satisfied: setuptools in c:\\users\\mnm_2\\anaconda3\\lib\\site-packages (from -r requirements.txt (line 2)) (75.1.0)\n"
     ]
    }
   ],
   "source": [
    "!pip install -r requirements.txt"
   ]
  },
  {
   "cell_type": "markdown",
   "id": "7d60c344",
   "metadata": {},
   "source": [
    "### Import Text Adventures"
   ]
  },
  {
   "cell_type": "code",
   "execution_count": 2,
   "id": "69de364e",
   "metadata": {},
   "outputs": [],
   "source": [
    "from text_adventure_games import (\n",
    "    games, parsing, actions, things, blocks, viz\n",
    ")"
   ]
  },
  {
   "cell_type": "markdown",
   "id": "7926f0cd",
   "metadata": {},
   "source": [
    "### Locations, Character, Layout, and Items"
   ]
  },
  {
   "cell_type": "code",
   "execution_count": null,
   "id": "b9b1dd90",
   "metadata": {},
   "outputs": [],
   "source": [
    "from text_adventure_games import things, games, actions\n",
    "\n",
    "#Locations\n",
    "foyer = things.Location(\"foyer\", \"A creaking foyer with peeling wallpaper and a heavy front door.\")\n",
    "landing = things.Location(\"landing\", \"A narrow landing with stairs leading down.\")\n",
    "basement = things.Location(\"basement\", \"Cold air rises from the pitch-black basement.\")\n",
    "\n",
    "#Connections\n",
    "foyer.add_connection(\"north\", landing, \"You creep toward the stairs.\")\n",
    "landing.add_connection(\"south\", foyer, \"You return to the foyer.\")\n",
    "landing.add_connection(\"down\", basement, \"You descend into the basement.\")\n",
    "basement.add_connection(\"up\", landing, \"You climb back to the landing.\")\n",
    "\n",
    "#Items: candle (lightable), key, front door (locked + openable)\n",
    "candle = things.Item(\"candle\", \"a slender red candle\", \"Wax drips line its sides.\")\n",
    "candle.set_property(\"is_lightable\", True)\n",
    "candle.set_property(\"is_lit\", False)\n",
    "\n",
    "key = things.Item(\"key\", \"an iron key\", \"Its teeth are rough and old.\")\n",
    "\n",
    "front_door = things.Item(\"front door\", \"the front door\", \"A heavy, iron-banded door with a deadbolt.\")\n",
    "front_door.set_property(\"is_locked\", True)\n",
    "front_door.set_property(\"is_open\", False)\n",
    "\n",
    "#Place items (player can pick up candle; key is in basement)\n",
    "foyer.add_item(candle)\n",
    "foyer.add_item(front_door)\n",
    "basement.add_item(key)\n",
    "\n",
    "#Player\n",
    "player = things.Character(\n",
    "    name=\"you\",\n",
    "    description=\"A lost soul who badly wants to leave.\",\n",
    "    persona=\"I need to get out.\"\n",
    ")\n",
    "\n",
    "#Add player to foyer\n",
    "foyer.add_character(player)"
   ]
  },
  {
   "cell_type": "markdown",
   "id": "26511e54",
   "metadata": {},
   "source": [
    "### Actions"
   ]
  },
  {
   "cell_type": "code",
   "execution_count": 4,
   "id": "8fbb79bb",
   "metadata": {},
   "outputs": [],
   "source": [
    "from text_adventure_games import actions\n",
    "\n",
    "class Light_Candle(actions.Action):\n",
    "    ACTION_NAME = \"light candle\"\n",
    "    ACTION_DESCRIPTION = \"Light a candle if you have it.\"\n",
    "    ACTION_ALIASES = [\"light\"]\n",
    "\n",
    "    def __init__(self, game, command):\n",
    "        super().__init__(game)\n",
    "        self.character = self.parser.get_character(command)\n",
    "        inv = self.character.inventory if self.character else {}\n",
    "        self.candle = self.parser.match_item(\"candle\", inv)\n",
    "        if not self.candle and self.character:\n",
    "            self.candle = self.parser.match_item(\"candle\", self.character.location.items)\n",
    "\n",
    "    def check_preconditions(self) -> bool:\n",
    "        if not self.was_matched(self.character, \"No character found.\"):\n",
    "            return False\n",
    "        if not self.was_matched(self.candle, \"You don't have a candle to light.\"):\n",
    "            return False\n",
    "        if not self.candle.get_property(\"is_lightable\"):\n",
    "            self.parser.fail(\"That can't be lit.\")\n",
    "            return False\n",
    "        if self.candle.get_property(\"is_lit\"):\n",
    "            self.parser.fail(\"The candle is already lit.\")\n",
    "            return False\n",
    "        return True\n",
    "\n",
    "    def apply_effects(self):\n",
    "        self.candle.set_property(\"is_lit\", True)\n",
    "        self.parser.ok(\"You strike a spark. The candle flickers to life.\")\n",
    "\n",
    "class Unlock_Front_Door(actions.Action):\n",
    "    ACTION_NAME = \"unlock door\"\n",
    "    ACTION_DESCRIPTION = \"Unlock the front door if you have the key.\"\n",
    "    ACTION_ALIASES = [\"unlock\"]\n",
    "\n",
    "    def __init__(self, game, command):\n",
    "        super().__init__(game)\n",
    "        self.character = self.parser.get_character(command)\n",
    "        self.location = self.character.location if self.character else None\n",
    "        self.door = self.parser.match_item(\"front door\", self.location.items if self.location else {})\n",
    "        inv = self.character.inventory if self.character else {}\n",
    "        self.key = self.parser.match_item(\"key\", inv)\n",
    "\n",
    "    def check_preconditions(self) -> bool:\n",
    "        if not self.was_matched(self.character, \"No character found.\"):\n",
    "            return False\n",
    "        if not self.was_matched(self.door, \"There is no front door here.\"):\n",
    "            return False\n",
    "        if not self.was_matched(self.key, \"You don't have the key.\"):\n",
    "            return False\n",
    "        if not self.door.get_property(\"is_locked\"):\n",
    "            self.parser.fail(\"The door is already unlocked.\")\n",
    "            return False\n",
    "        return True\n",
    "\n",
    "    def apply_effects(self):\n",
    "        self.door.set_property(\"is_locked\", False)\n",
    "        self.parser.ok(\"You turn the iron key. The deadbolt thunks open.\")\n",
    "\n",
    "class Open_Front_Door(actions.Action):\n",
    "    ACTION_NAME = \"open door\"\n",
    "    ACTION_DESCRIPTION = \"Open the front door and escape (if it's unlocked).\"\n",
    "    ACTION_ALIASES = [\"open\"]\n",
    "\n",
    "    def __init__(self, game, command):\n",
    "        super().__init__(game)\n",
    "        self.character = self.parser.get_character(command)\n",
    "        self.location = self.character.location if self.character else None\n",
    "        self.door = self.parser.match_item(\"front door\", self.location.items if self.location else {})\n",
    "\n",
    "    def check_preconditions(self) -> bool:\n",
    "        if not self.was_matched(self.character, \"No character found.\"):\n",
    "            return False\n",
    "        if not self.was_matched(self.door, \"There is no front door here.\"):\n",
    "            return False\n",
    "        if self.door.get_property(\"is_locked\"):\n",
    "            self.parser.fail(\"It won't budge. The deadbolt is still locked.\")\n",
    "            return False\n",
    "        if self.door.get_property(\"is_open\"):\n",
    "            self.parser.fail(\"The door already stands open.\")\n",
    "            return False\n",
    "        return True\n",
    "\n",
    "    def apply_effects(self):\n",
    "        self.door.set_property(\"is_open\", True)\n",
    "        self.parser.ok(\"You heave the door inward. Night air floods the foyer... You escape!\")\n",
    "        self.game.game_over = True\n",
    "        self.game.game_over_description = \"You escaped the haunted house. THE END.\""
   ]
  },
  {
   "cell_type": "markdown",
   "id": "46bc6113",
   "metadata": {},
   "source": [
    "### Win and loss states"
   ]
  },
  {
   "cell_type": "code",
   "execution_count": 5,
   "id": "4a7296b6",
   "metadata": {},
   "outputs": [],
   "source": [
    "class TinyHorror(games.Game):\n",
    "    def __init__(self, start_at, player, characters=None, custom_actions=None):\n",
    "        super().__init__(start_at, player, characters=characters, custom_actions=custom_actions)\n",
    "\n",
    "    def is_won(self) -> bool:\n",
    "        return False  # win is set when opening the front door\n",
    "\n",
    "    def is_game_over(self) -> bool:\n",
    "        if self.game_over or self.player.get_property(\"is_dead\"):\n",
    "            return super().is_game_over()\n",
    "\n",
    "        at_basement = self.player.location == basement\n",
    "        has_lit_light = any(\n",
    "            itm.get_property(\"is_lightable\") and itm.get_property(\"is_lit\")\n",
    "            for itm in self.player.inventory.values()\n",
    "        )\n",
    "        if at_basement and not has_lit_light:\n",
    "            self.player.set_property(\"is_dead\", True)\n",
    "            self.game_over_description = \"You stumble in the black and something cold closes around your throat. THE END.\"\n",
    "            return True\n",
    "        return super().is_game_over()"
   ]
  },
  {
   "cell_type": "code",
   "execution_count": 6,
   "id": "188bf8f4",
   "metadata": {},
   "outputs": [
    {
     "name": "stdout",
     "output_type": "stream",
     "text": [
      "A creaking foyer with peeling wallpaper and a heavy front door.\n",
      "Exits:\n",
      "North to landing\n",
      "\n",
      "You see:\n",
      " * a stubby tallow candle\n",
      " * the front door\n",
      "\n",
      "\n"
     ]
    }
   ],
   "source": [
    "# === Instantiate Tiny Horror and register actions ===\n",
    "custom_actions = [Light_Candle, Unlock_Front_Door, Open_Front_Door]\n",
    "game = TinyHorror(foyer, player, characters=[player], custom_actions=custom_actions)\n",
    "print(game.describe())"
   ]
  },
  {
   "cell_type": "code",
   "execution_count": null,
   "id": "1ffe0b9b",
   "metadata": {},
   "outputs": [
    {
     "name": "stdout",
     "output_type": "stream",
     "text": [
      "A creaking foyer with peeling wallpaper and a heavy front door.\n",
      "Exits:\n",
      "North to landing\n",
      "\n",
      "You see:\n",
      " * a stubby tallow candle\n",
      " * the front door\n",
      "\n",
      "\n",
      "you got the candle.\n",
      "I'm not sure what you want to do.\n",
      "I'm not sure what you want to do.\n"
     ]
    }
   ],
   "source": [
    "game.game_loop()"
   ]
  }
 ],
 "metadata": {
  "kernelspec": {
   "display_name": "base",
   "language": "python",
   "name": "python3"
  },
  "language_info": {
   "codemirror_mode": {
    "name": "ipython",
    "version": 3
   },
   "file_extension": ".py",
   "mimetype": "text/x-python",
   "name": "python",
   "nbconvert_exporter": "python",
   "pygments_lexer": "ipython3",
   "version": "3.12.7"
  }
 },
 "nbformat": 4,
 "nbformat_minor": 5
}
